{
  "cells": [
    {
      "cell_type": "markdown",
      "metadata": {
        "id": "muyng76IkMLU"
      },
      "source": [
        "**PySpark Session Setup**"
      ]
    },
    {
      "cell_type": "code",
      "execution_count": null,
      "metadata": {
        "colab": {
          "base_uri": "https://localhost:8080/"
        },
        "id": "UFVTTN2pi_ty",
        "outputId": "be685b5f-6def-4fef-b8d4-922016401865"
      },
      "outputs": [
        {
          "name": "stdout",
          "output_type": "stream",
          "text": [
            "Drive already mounted at /content/drive; to attempt to forcibly remount, call drive.mount(\"/content/drive\", force_remount=True).\n"
          ]
        }
      ],
      "source": [
        "# install PySpark\n",
        "! pip install pyspark >& /dev/null\n",
        "\n",
        "#start session\n",
        "from pyspark.sql import SparkSession\n",
        "spark = SparkSession.builder.appName(\"wheat_future_price_prediction\").getOrCreate()\n",
        "\n",
        "#upload libraries\n",
        "import pandas as pd\n",
        "import numpy as np\n",
        "import matplotlib.pyplot as plt\n",
        "import seaborn as sns"
      ]
    },
    {
      "cell_type": "code",
      "execution_count": null,
      "metadata": {
        "id": "j13IlhN9kke3"
      },
      "outputs": [],
      "source": [
        "wheat_price_data = spark.read.csv('drive/MyDrive/BDA-Labs/wheat_data.csv', header=True, inferSchema=True)"
      ]
    },
    {
      "cell_type": "code",
      "execution_count": null,
      "metadata": {
        "id": "aw9qX-jnlJh1"
      },
      "outputs": [],
      "source": []
    },
    {
      "cell_type": "markdown",
      "metadata": {
        "id": "LI6YhSgUlCdo"
      },
      "source": []
    }
  ],
  "metadata": {
    "colab": {
      "provenance": []
    },
    "kernelspec": {
      "display_name": "Python 3",
      "name": "python3"
    },
    "language_info": {
      "name": "python"
    }
  },
  "nbformat": 4,
  "nbformat_minor": 0
}
