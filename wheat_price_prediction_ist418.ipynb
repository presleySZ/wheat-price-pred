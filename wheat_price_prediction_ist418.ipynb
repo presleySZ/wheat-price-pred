{
  "nbformat": 4,
  "nbformat_minor": 0,
  "metadata": {
    "colab": {
      "provenance": []
    },
    "kernelspec": {
      "name": "python3",
      "display_name": "Python 3"
    },
    "language_info": {
      "name": "python"
    }
  },
  "cells": [
    {
      "cell_type": "markdown",
      "source": [
        "**PySpark Session Setup**"
      ],
      "metadata": {
        "id": "muyng76IkMLU"
      }
    },
    {
      "cell_type": "code",
      "execution_count": null,
      "metadata": {
        "id": "UFVTTN2pi_ty",
        "colab": {
          "base_uri": "https://localhost:8080/"
        },
        "outputId": "be685b5f-6def-4fef-b8d4-922016401865"
      },
      "outputs": [
        {
          "output_type": "stream",
          "name": "stdout",
          "text": [
            "Drive already mounted at /content/drive; to attempt to forcibly remount, call drive.mount(\"/content/drive\", force_remount=True).\n"
          ]
        }
      ],
      "source": [
        "# install PySpark\n",
        "! pip install pyspark >& /dev/null\n",
        "\n",
        "#start session\n",
        "from pyspark.sql import SparkSession\n",
        "spark = SparkSession.builder.appName(\"wheat_future_price_prediction\").getOrCreate()\n",
        "\n",
        "#upload libraries\n",
        "import pandas as pd\n",
        "import numpy as np\n",
        "import matplotlib.pyplot as plt\n",
        "import seaborn as sns\n",
        "\n",
        "# import google drive to upload csv files\n",
        "from google.colab import drive\n",
        "drive.mount('/content/drive')"
      ]
    },
    {
      "cell_type": "code",
      "source": [
        "wheat_price_data = spark.read.csv('drive/MyDrive/BDA-Labs/wheat_data.csv', header=True, inferSchema=True)"
      ],
      "metadata": {
        "id": "j13IlhN9kke3"
      },
      "execution_count": null,
      "outputs": []
    },
    {
      "cell_type": "code",
      "source": [],
      "metadata": {
        "id": "aw9qX-jnlJh1"
      },
      "execution_count": null,
      "outputs": []
    },
    {
      "cell_type": "markdown",
      "source": [],
      "metadata": {
        "id": "LI6YhSgUlCdo"
      }
    }
  ]
}